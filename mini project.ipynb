{
 "cells": [
  {
   "cell_type": "markdown",
   "metadata": {},
   "source": [
    "# Hi，this is Yuyang Ma from Modular.\n",
    "# My ID is 22040677."
   ]
  },
  {
   "attachments": {},
   "cell_type": "markdown",
   "metadata": {
    "ExecuteTime": {
     "end_time": "2022-05-11T06:05:59.477729Z",
     "start_time": "2022-05-11T06:05:53.179572Z"
    },
    "scrolled": true
   },
   "source": [
    "# I wasn't able to successfully do the project in the Example projects, so I chose a project that I had come across before and was related to this topic, a CNN-based project for 10 types of object recognition.\n",
    "# For colorful images, it is more efficient to use CNN.\n",
    "# In this project, I used the Cifar 10 dataset."
   ]
  },
  {
   "cell_type": "markdown",
   "metadata": {},
   "source": [
    "-"
   ]
  },
  {
   "cell_type": "markdown",
   "metadata": {},
   "source": [
    "-"
   ]
  },
  {
   "cell_type": "code",
   "execution_count": 17,
   "metadata": {},
   "outputs": [],
   "source": [
    "# 1. Import the data, import the Three Musketeers and Tensorflow\n",
    "import numpy as np\n",
    "import pandas as pd\n",
    "import matplotlib.pyplot as plt\n",
    "import tensorflow as t"
   ]
  },
  {
   "cell_type": "code",
   "execution_count": 18,
   "metadata": {
    "ExecuteTime": {
     "end_time": "2022-05-11T06:07:00.038902Z",
     "start_time": "2022-05-11T06:06:59.429533Z"
    }
   },
   "outputs": [],
   "source": [
    "# 2. Load the dataset cifar 10, for training and calibration data, receiving and splitting data\n",
    "(x_train_all, y_train_all), (x_test, y_test) = tf.keras.datasets.cifar10.load_data()"
   ]
  },
  {
   "cell_type": "code",
   "execution_count": 19,
   "metadata": {
    "ExecuteTime": {
     "end_time": "2022-05-11T06:25:18.881218Z",
     "start_time": "2022-05-11T06:25:18.866257Z"
    }
   },
   "outputs": [],
   "source": [
    "# 3. Split the data and take 5,000 as check data, same with x&y\n",
    "x_valid, x_train = x_train_all[:5000], x_train_all[5000:]\n",
    "y_valid, y_train = y_train_all[:5000], y_train_all[5000:]"
   ]
  },
  {
   "cell_type": "code",
   "execution_count": 20,
   "metadata": {
    "ExecuteTime": {
     "end_time": "2022-05-11T06:07:43.379102Z",
     "start_time": "2022-05-11T06:07:43.373118Z"
    }
   },
   "outputs": [
    {
     "data": {
      "text/plain": [
       "(5000, 32, 32, 3)"
      ]
     },
     "execution_count": 20,
     "metadata": {},
     "output_type": "execute_result"
    }
   ],
   "source": [
    "# 4.Check the shape\n",
    "x_valid.shape"
   ]
  },
  {
   "cell_type": "code",
   "execution_count": 21,
   "metadata": {
    "ExecuteTime": {
     "end_time": "2022-05-11T06:07:47.539491Z",
     "start_time": "2022-05-11T06:07:47.524530Z"
    }
   },
   "outputs": [
    {
     "data": {
      "text/plain": [
       "(45000, 32, 32, 3)"
      ]
     },
     "execution_count": 21,
     "metadata": {},
     "output_type": "execute_result"
    }
   ],
   "source": [
    "x_train.shape"
   ]
  },
  {
   "cell_type": "code",
   "execution_count": 22,
   "metadata": {
    "ExecuteTime": {
     "end_time": "2022-05-11T06:07:59.536465Z",
     "start_time": "2022-05-11T06:07:59.518513Z"
    }
   },
   "outputs": [
    {
     "data": {
      "text/plain": [
       "(10000, 32, 32, 3)"
      ]
     },
     "execution_count": 22,
     "metadata": {},
     "output_type": "execute_result"
    }
   ],
   "source": [
    "x_test.shape"
   ]
  },
  {
   "cell_type": "code",
   "execution_count": 23,
   "metadata": {
    "ExecuteTime": {
     "end_time": "2022-05-11T06:08:04.083956Z",
     "start_time": "2022-05-11T06:08:04.076853Z"
    }
   },
   "outputs": [
    {
     "data": {
      "text/plain": [
       "(10000, 1)"
      ]
     },
     "execution_count": 23,
     "metadata": {},
     "output_type": "execute_result"
    }
   ],
   "source": [
    "y_test.shape"
   ]
  },
  {
   "cell_type": "code",
   "execution_count": 24,
   "metadata": {
    "ExecuteTime": {
     "end_time": "2022-05-11T06:08:55.933668Z",
     "start_time": "2022-05-11T06:08:55.836927Z"
    },
    "scrolled": true
   },
   "outputs": [
    {
     "data": {
      "text/plain": [
       "Text(0.5, 1.0, '3')"
      ]
     },
     "execution_count": 24,
     "metadata": {},
     "output_type": "execute_result"
    },
    {
     "data": {
      "image/png": "[encoded data removed]",
      "text/plain": [
       "<Figure size 432x288 with 1 Axes>"
      ]
     },
     "metadata": {
      "needs_background": "light"
     },
     "output_type": "display_data"
    }
   ],
   "source": [
    "# 5.Draw one for checking, and add a title \n",
    "plt.imshow(x_test[0])\n",
    "plt.title(y_test[0][0])"
   ]
  },
  {
   "cell_type": "markdown",
   "metadata": {},
   "source": [
    "Explaination for what is 3 👆: In cifar 10 dataset, 3 responds for a cat picture."
   ]
  },
  {
   "cell_type": "markdown",
   "metadata": {},
   "source": [
    "-"
   ]
  },
  {
   "cell_type": "code",
   "execution_count": 25,
   "metadata": {
    "ExecuteTime": {
     "end_time": "2022-05-11T06:09:53.657144Z",
     "start_time": "2022-05-11T06:09:53.653154Z"
    }
   },
   "outputs": [
    {
     "data": {
      "text/plain": [
       "array([[[158, 112,  49],\n",
       "        [159, 111,  47],\n",
       "        [165, 116,  51],\n",
       "        ...,\n",
       "        [137,  95,  36],\n",
       "        [126,  91,  36],\n",
       "        [116,  85,  33]],\n",
       "\n",
       "       [[152, 112,  51],\n",
       "        [151, 110,  40],\n",
       "        [159, 114,  45],\n",
       "        ...,\n",
       "        [136,  95,  31],\n",
       "        [125,  91,  32],\n",
       "        [119,  88,  34]],\n",
       "\n",
       "       [[151, 110,  47],\n",
       "        [151, 109,  33],\n",
       "        [158, 111,  36],\n",
       "        ...,\n",
       "        [139,  98,  34],\n",
       "        [130,  95,  34],\n",
       "        [120,  89,  33]],\n",
       "\n",
       "       ...,\n",
       "\n",
       "       [[ 68, 124, 177],\n",
       "        [ 42, 100, 148],\n",
       "        [ 31,  88, 137],\n",
       "        ...,\n",
       "        [ 38,  97, 146],\n",
       "        [ 13,  64, 108],\n",
       "        [ 40,  85, 127]],\n",
       "\n",
       "       [[ 61, 116, 168],\n",
       "        [ 49, 102, 148],\n",
       "        [ 35,  85, 132],\n",
       "        ...,\n",
       "        [ 26,  82, 130],\n",
       "        [ 29,  82, 126],\n",
       "        [ 20,  64, 107]],\n",
       "\n",
       "       [[ 54, 107, 160],\n",
       "        [ 56, 105, 149],\n",
       "        [ 45,  89, 132],\n",
       "        ...,\n",
       "        [ 24,  77, 124],\n",
       "        [ 34,  84, 129],\n",
       "        [ 21,  67, 110]]], dtype=uint8)"
      ]
     },
     "execution_count": 25,
     "metadata": {},
     "output_type": "execute_result"
    }
   ],
   "source": [
    "# 6.Do a pre-processing of the data set\n",
    "x_test[0]"
   ]
  },
  {
   "cell_type": "markdown",
   "metadata": {},
   "source": [
    "Explaination for answer: All integers from 0-250, if the input neural network would be too large"
   ]
  },
  {
   "cell_type": "markdown",
   "metadata": {},
   "source": [
    "-"
   ]
  },
  {
   "cell_type": "code",
   "execution_count": 26,
   "metadata": {
    "ExecuteTime": {
     "end_time": "2022-05-11T06:25:33.013977Z",
     "start_time": "2022-05-11T06:25:29.436038Z"
    }
   },
   "outputs": [],
   "source": [
    "# 7.Normalize the data to narrow down the range, into a floating point shape, two-dimensional, reduced, receive\n",
    "from sklearn.preprocessing import StandardScaler\n",
    "\n",
    "scaler = StandardScaler()\n",
    "x_train_scaled = scaler.fit_transform(x_train.astype(np.float32).reshape(-1, 1)).reshape(-1, 32, 32, 3)\n",
    "x_valid_scaled = scaler.transform(x_valid.astype(np.float32).reshape(-1, 1)).reshape(-1, 32, 32, 3)\n",
    "x_test_scaled = scaler.transform(x_test.astype(np.float32).reshape(-1, 1)).reshape(-1, 32, 32, 3)"
   ]
  },
  {
   "cell_type": "markdown",
   "metadata": {},
   "source": [
    "-"
   ]
  },
  {
   "cell_type": "markdown",
   "metadata": {},
   "source": [
    "👆 Has Completed pre-processing of data"
   ]
  },
  {
   "cell_type": "markdown",
   "metadata": {},
   "source": [
    "-"
   ]
  },
  {
   "cell_type": "markdown",
   "metadata": {},
   "source": [
    "👇  The essence of a convolutional neural network is that the features \n",
    " in the image are extracted by convolutional operations and fed back into the neural network."
   ]
  },
  {
   "cell_type": "code",
   "execution_count": 28,
   "metadata": {},
   "outputs": [],
   "source": [
    "# 8. Defining Convolutional Neural Networks.\n",
    "model = tf.keras.models.Sequential()\n",
    "# 2 convolutions, one pooling, three repetitions, total 3 layers of operations\n",
    "model.add(tf.keras.layers.Conv2D(filters=32, \n",
    "                                 kernel_size=3, \n",
    "                                 padding='same', \n",
    "                                 activation='relu', \n",
    "                                 input_shape=(32, 32, 3)))\n",
    "model.add(tf.keras.layers.Conv2D(filters=32, \n",
    "                                 kernel_size=3, \n",
    "                                 padding='same', \n",
    "                                 activation='relu'))\n",
    "model.add(tf.keras.layers.MaxPool2D(pool_size=2))\n",
    "\n",
    "model.add(tf.keras.layers.Conv2D(filters=64, \n",
    "                                 kernel_size=3, \n",
    "                                 padding='same', \n",
    "                                 activation='relu', \n",
    "                                 ))\n",
    "model.add(tf.keras.layers.Conv2D(filters=64, \n",
    "                                 kernel_size=3, \n",
    "                                 padding='same', \n",
    "                                 activation='relu'))\n",
    "model.add(tf.keras.layers.MaxPool2D(pool_size=2))\n",
    "\n",
    "model.add(tf.keras.layers.Conv2D(filters=128, \n",
    "                                 kernel_size=3, \n",
    "                                 padding='same', \n",
    "                                 activation='relu', \n",
    "                                 ))\n",
    "model.add(tf.keras.layers.Conv2D(filters=128, \n",
    "                                 kernel_size=3, \n",
    "                                 padding='same', \n",
    "                                 activation='relu'))\n",
    "model.add(tf.keras.layers.MaxPool2D(pool_size=2))\n",
    "\n",
    "# Flattening\n",
    "model.add(tf.keras.layers.Flatten())\n",
    "# Fully connected\n",
    "model.add(tf.keras.layers.Dense(256, activation='relu'))\n",
    "model.add(tf.keras.layers.Dense(10, activation='softmax'))"
   ]
  },
  {
   "cell_type": "markdown",
   "metadata": {},
   "source": [
    "👆This is not an error it just tells me that it can and will use your CPU to gain extra speed"
   ]
  },
  {
   "cell_type": "markdown",
   "metadata": {},
   "source": [
    "-"
   ]
  },
  {
   "cell_type": "code",
   "execution_count": 29,
   "metadata": {
    "ExecuteTime": {
     "end_time": "2022-05-11T06:23:12.671772Z",
     "start_time": "2022-05-11T06:23:12.644844Z"
    }
   },
   "outputs": [],
   "source": [
    "# 9. Configuring the network\n",
    "model.compile(loss='sparse_categorical_crossentropy',\n",
    "             optimizer='sgd',\n",
    "             metrics=['acc'])"
   ]
  },
  {
   "cell_type": "code",
   "execution_count": 30,
   "metadata": {
    "ExecuteTime": {
     "end_time": "2022-05-11T06:23:20.882812Z",
     "start_time": "2022-05-11T06:23:20.868849Z"
    }
   },
   "outputs": [
    {
     "name": "stdout",
     "output_type": "stream",
     "text": [
      "Model: \"sequential_2\"\n",
      "_________________________________________________________________\n",
      " Layer (type)                Output Shape              Param #   \n",
      "=================================================================\n",
      " conv2d_12 (Conv2D)          (None, 32, 32, 32)        896       \n",
      "                                                                 \n",
      " conv2d_13 (Conv2D)          (None, 32, 32, 32)        9248      \n",
      "                                                                 \n",
      " max_pooling2d_6 (MaxPooling  (None, 16, 16, 32)       0         \n",
      " 2D)                                                             \n",
      "                                                                 \n",
      " conv2d_14 (Conv2D)          (None, 16, 16, 64)        18496     \n",
      "                                                                 \n",
      " conv2d_15 (Conv2D)          (None, 16, 16, 64)        36928     \n",
      "                                                                 \n",
      " max_pooling2d_7 (MaxPooling  (None, 8, 8, 64)         0         \n",
      " 2D)                                                             \n",
      "                                                                 \n",
      " conv2d_16 (Conv2D)          (None, 8, 8, 128)         73856     \n",
      "                                                                 \n",
      " conv2d_17 (Conv2D)          (None, 8, 8, 128)         147584    \n",
      "                                                                 \n",
      " max_pooling2d_8 (MaxPooling  (None, 4, 4, 128)        0         \n",
      " 2D)                                                             \n",
      "                                                                 \n",
      " flatten_2 (Flatten)         (None, 2048)              0         \n",
      "                                                                 \n",
      " dense_4 (Dense)             (None, 256)               524544    \n",
      "                                                                 \n",
      " dense_5 (Dense)             (None, 10)                2570      \n",
      "                                                                 \n",
      "=================================================================\n",
      "Total params: 814,122\n",
      "Trainable params: 814,122\n",
      "Non-trainable params: 0\n",
      "_________________________________________________________________\n"
     ]
    }
   ],
   "source": [
    "model.summary()"
   ]
  },
  {
   "cell_type": "code",
   "execution_count": 31,
   "metadata": {
    "ExecuteTime": {
     "end_time": "2022-05-11T06:27:16.490311Z",
     "start_time": "2022-05-11T06:25:35.524262Z"
    }
   },
   "outputs": [
    {
     "name": "stdout",
     "output_type": "stream",
     "text": [
      "Epoch 1/10\n",
      "1407/1407 [==============================] - 123s 87ms/step - loss: 1.8391 - acc: 0.3304 - val_loss: 1.6890 - val_acc: 0.4026\n",
      "Epoch 2/10\n",
      "1407/1407 [==============================] - 125s 89ms/step - loss: 1.3790 - acc: 0.5056 - val_loss: 2.0601 - val_acc: 0.3230\n",
      "Epoch 3/10\n",
      "1407/1407 [==============================] - 131s 93ms/step - loss: 1.1586 - acc: 0.5894 - val_loss: 1.1450 - val_acc: 0.6060\n",
      "Epoch 4/10\n",
      "1407/1407 [==============================] - 132s 94ms/step - loss: 1.0007 - acc: 0.6466 - val_loss: 0.9683 - val_acc: 0.6650\n",
      "Epoch 5/10\n",
      "1407/1407 [==============================] - 127s 90ms/step - loss: 0.8801 - acc: 0.6926 - val_loss: 1.0963 - val_acc: 0.6278\n",
      "Epoch 6/10\n",
      "1407/1407 [==============================] - 134s 95ms/step - loss: 0.7796 - acc: 0.7272 - val_loss: 1.4307 - val_acc: 0.5256\n",
      "Epoch 7/10\n",
      "1407/1407 [==============================] - 126s 89ms/step - loss: 0.6916 - acc: 0.7591 - val_loss: 0.8066 - val_acc: 0.7198\n",
      "Epoch 8/10\n",
      "1407/1407 [==============================] - 122s 87ms/step - loss: 0.6112 - acc: 0.7872 - val_loss: 0.9418 - val_acc: 0.6866\n",
      "Epoch 9/10\n",
      "1407/1407 [==============================] - 122s 87ms/step - loss: 0.5340 - acc: 0.8153 - val_loss: 0.8090 - val_acc: 0.7254\n",
      "Epoch 10/10\n",
      "1407/1407 [==============================] - 122s 87ms/step - loss: 0.4626 - acc: 0.8386 - val_loss: 0.9180 - val_acc: 0.7064\n"
     ]
    }
   ],
   "source": [
    "# 10. Training model\n",
    "history = model.fit(x_train_scaled, y_train, epochs=10,\n",
    "         validation_data=(x_valid_scaled, y_valid))"
   ]
  },
  {
   "attachments": {},
   "cell_type": "markdown",
   "metadata": {},
   "source": [
    "Conclusion for 👆： 1. I think the accuracy rate is good, it got to 40% on the first calibration\n",
    "                   2. Because it is 50,000 data repeatedly trained, the recognition rate will get higher and                          higher for things that are recognized; those that are not recognized, such as calibration \n",
    "                   data, will only be maintained to a certain level.\n",
    "                   3.  👉👉👉👉👉👉👉👉Training data is 83.9% and calibration data is: 70.6%👈👈👈👈👈👈👈👈\n",
    "                   4.I find that there is an upper limit to data algorithms and more is constantly being done to                      surpass the achievements of previous generations"
   ]
  },
  {
   "cell_type": "code",
   "execution_count": 32,
   "metadata": {
    "ExecuteTime": {
     "end_time": "2022-05-11T06:30:06.852338Z",
     "start_time": "2022-05-11T06:30:06.834361Z"
    }
   },
   "outputs": [
    {
     "data": {
      "text/plain": [
       "{'loss': [1.8391163349151611,\n",
       "  1.3789772987365723,\n",
       "  1.1586263179779053,\n",
       "  1.0007387399673462,\n",
       "  0.8801203966140747,\n",
       "  0.7796480655670166,\n",
       "  0.6916177272796631,\n",
       "  0.6112117767333984,\n",
       "  0.5340226292610168,\n",
       "  0.4625929296016693],\n",
       " 'acc': [0.33035555481910706,\n",
       "  0.5056222081184387,\n",
       "  0.5893555283546448,\n",
       "  0.6465555429458618,\n",
       "  0.6926444172859192,\n",
       "  0.7271999716758728,\n",
       "  0.7591333389282227,\n",
       "  0.7871999740600586,\n",
       "  0.8153111338615417,\n",
       "  0.8385999798774719],\n",
       " 'val_loss': [1.6889927387237549,\n",
       "  2.060074806213379,\n",
       "  1.1450202465057373,\n",
       "  0.9682784080505371,\n",
       "  1.0962764024734497,\n",
       "  1.430709719657898,\n",
       "  0.806577205657959,\n",
       "  0.9417645335197449,\n",
       "  0.8090245723724365,\n",
       "  0.917961597442627],\n",
       " 'val_acc': [0.4025999903678894,\n",
       "  0.3230000138282776,\n",
       "  0.6060000061988831,\n",
       "  0.6650000214576721,\n",
       "  0.6277999877929688,\n",
       "  0.525600016117096,\n",
       "  0.7197999954223633,\n",
       "  0.6866000294685364,\n",
       "  0.7253999710083008,\n",
       "  0.7063999772071838]}"
      ]
     },
     "execution_count": 32,
     "metadata": {},
     "output_type": "execute_result"
    }
   ],
   "source": [
    "# 11. Watch the data trend，draw a picture \n",
    "history.history"
   ]
  },
  {
   "cell_type": "code",
   "execution_count": 33,
   "metadata": {
    "ExecuteTime": {
     "end_time": "2022-05-11T06:31:04.657746Z",
     "start_time": "2022-05-11T06:31:04.524103Z"
    },
    "scrolled": true
   },
   "outputs": [
    {
     "data": {
      "image/png": "[encoded data removed]",
      "text/plain": [
       "<Figure size 576x360 with 1 Axes>"
      ]
     },
     "metadata": {
      "needs_background": "light"
     },
     "output_type": "display_data"
    }
   ],
   "source": [
    "pd.DataFrame(history.history).plot(figsize=(8, 5))\n",
    "plt.grid()\n",
    "plt.gca().set_ylim(0, 2)\n",
    "plt.show()"
   ]
  },
  {
   "cell_type": "markdown",
   "metadata": {},
   "source": [
    "Conclusion for 👆：1. The loss of training data is still quite high (blue line)\n",
    "                  2. Loss of calibration data is volatile"
   ]
  },
  {
   "cell_type": "markdown",
   "metadata": {},
   "source": [
    "-"
   ]
  },
  {
   "cell_type": "code",
   "execution_count": 34,
   "metadata": {
    "ExecuteTime": {
     "end_time": "2022-05-11T06:39:10.506098Z",
     "start_time": "2022-05-11T06:37:37.179991Z"
    }
   },
   "outputs": [
    {
     "name": "stdout",
     "output_type": "stream",
     "text": [
      "Epoch 1/10\n",
      "1407/1407 [==============================] - 139s 96ms/step - loss: 1.6782 - acc: 0.3967 - val_loss: 1.1706 - val_acc: 0.6088\n",
      "Epoch 2/10\n",
      "1407/1407 [==============================] - 135s 96ms/step - loss: 1.0682 - acc: 0.6212 - val_loss: 0.9352 - val_acc: 0.6878\n",
      "Epoch 3/10\n",
      "1407/1407 [==============================] - 126s 89ms/step - loss: 0.8692 - acc: 0.6951 - val_loss: 0.8474 - val_acc: 0.7360\n",
      "Epoch 4/10\n",
      "1407/1407 [==============================] - 128s 91ms/step - loss: 0.7356 - acc: 0.7445 - val_loss: 0.8303 - val_acc: 0.7474\n",
      "Epoch 5/10\n",
      "1407/1407 [==============================] - 129s 92ms/step - loss: 0.6425 - acc: 0.7775 - val_loss: 0.7994 - val_acc: 0.7784\n",
      "Epoch 6/10\n",
      "1407/1407 [==============================] - 134s 95ms/step - loss: 0.5660 - acc: 0.8019 - val_loss: 0.8447 - val_acc: 0.7798\n",
      "Epoch 7/10\n",
      "1407/1407 [==============================] - 130s 93ms/step - loss: 0.5049 - acc: 0.8214 - val_loss: 0.7947 - val_acc: 0.7886\n",
      "Epoch 8/10\n",
      "1407/1407 [==============================] - 127s 90ms/step - loss: 0.4490 - acc: 0.8438 - val_loss: 0.9434 - val_acc: 0.7786\n",
      "Epoch 9/10\n",
      "1407/1407 [==============================] - 125s 89ms/step - loss: 0.4047 - acc: 0.8572 - val_loss: 1.0182 - val_acc: 0.7764\n",
      "Epoch 10/10\n",
      "1407/1407 [==============================] - 125s 89ms/step - loss: 0.3642 - acc: 0.8717 - val_loss: 0.9667 - val_acc: 0.7986\n"
     ]
    }
   ],
   "source": [
    "# 12. Network optimization, output charts\n",
    "# Add dropout to reduce overfitting.\n",
    "model = tf.keras.models.Sequential()\n",
    "# 2 convolutions, one pooling, three repetitions, total 3 layers of operations \n",
    "model.add(tf.keras.layers.Conv2D(filters=32, \n",
    "                                 kernel_size=3, \n",
    "                                 padding='same', \n",
    "                                 activation='relu', \n",
    "                                 input_shape=(32, 32, 3)))\n",
    "model.add(tf.keras.layers.Conv2D(filters=32, \n",
    "                                 kernel_size=3, \n",
    "                                 padding='same', \n",
    "                                 activation='relu'))\n",
    "model.add(tf.keras.layers.MaxPool2D(pool_size=2))\n",
    "\n",
    "model.add(tf.keras.layers.Conv2D(filters=64, \n",
    "                                 kernel_size=3, \n",
    "                                 padding='same', \n",
    "                                 activation='relu', \n",
    "                                 ))\n",
    "model.add(tf.keras.layers.Conv2D(filters=64, \n",
    "                                 kernel_size=3, \n",
    "                                 padding='same', \n",
    "                                 activation='relu'))\n",
    "model.add(tf.keras.layers.MaxPool2D(pool_size=2))\n",
    "\n",
    "model.add(tf.keras.layers.Conv2D(filters=128, \n",
    "                                 kernel_size=3, \n",
    "                                 padding='same', \n",
    "                                 activation='relu', \n",
    "                                 ))\n",
    "model.add(tf.keras.layers.Conv2D(filters=128, \n",
    "                                 kernel_size=3, \n",
    "                                 padding='same', \n",
    "                                 activation='relu'))\n",
    "model.add(tf.keras.layers.MaxPool2D(pool_size=2))\n",
    "\n",
    "# Flattening\n",
    "model.add(tf.keras.layers.Flatten())\n",
    "# Fully connected\n",
    "model.add(tf.keras.layers.Dense(256, activation='relu'))\n",
    "model.add(tf.keras.layers.AlphaDropout(0.3))\n",
    "model.add(tf.keras.layers.Dense(10, activation='softmax'))\n",
    "\n",
    "model.compile(loss='sparse_categorical_crossentropy',\n",
    "             optimizer='adam',\n",
    "             metrics=['acc'])\n",
    "history = model.fit(x_train_scaled, y_train, epochs=10,\n",
    "         validation_data=(x_valid_scaled, y_valid))"
   ]
  },
  {
   "cell_type": "code",
   "execution_count": 36,
   "metadata": {
    "ExecuteTime": {
     "end_time": "2022-05-11T06:39:49.051632Z",
     "start_time": "2022-05-11T06:39:48.925968Z"
    }
   },
   "outputs": [
    {
     "data": {
      "image/png": "[encoded data removed]",
      "text/plain": [
       "<Figure size 576x360 with 1 Axes>"
      ]
     },
     "metadata": {
      "needs_background": "light"
     },
     "output_type": "display_data"
    }
   ],
   "source": [
    "pd.DataFrame(history.history).plot(figsize=(8, 5))\n",
    "plt.grid()\n",
    "plt.gca().set_ylim(0, 2)\n",
    "plt.show()"
   ]
  },
  {
   "cell_type": "markdown",
   "metadata": {},
   "source": [
    "Conclusion for 👆：Overfitting effect mitigated a littleOverfitting effect mitigated a little"
   ]
  },
  {
   "cell_type": "code",
   "execution_count": null,
   "metadata": {},
   "outputs": [],
   "source": []
  }
 ],
 "metadata": {
  "kernelspec": {
   "display_name": "Python 3 (ipykernel)",
   "language": "python",
   "name": "python3"
  },
  "language_info": {
   "codemirror_mode": {
    "name": "ipython",
    "version": 3
   },
   "file_extension": ".py",
   "mimetype": "text/x-python",
   "name": "python",
   "nbconvert_exporter": "python",
   "pygments_lexer": "ipython3",
   "version": "3.9.12"
  },
  "toc": {
   "base_numbering": 1,
   "nav_menu": {},
   "number_sections": true,
   "sideBar": true,
   "skip_h1_title": false,
   "title_cell": "Table of Contents",
   "title_sidebar": "Contents",
   "toc_cell": false,
   "toc_position": {},
   "toc_section_display": true,
   "toc_window_display": false
  }
 },
 "nbformat": 4,
 "nbformat_minor": 4
}
